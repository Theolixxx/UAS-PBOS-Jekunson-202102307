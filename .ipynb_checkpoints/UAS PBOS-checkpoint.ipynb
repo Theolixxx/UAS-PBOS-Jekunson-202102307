{
 "cells": [
  {
   "cell_type": "code",
   "execution_count": 2,
   "id": "7616b6ad",
   "metadata": {},
   "outputs": [
    {
     "name": "stdout",
     "output_type": "stream",
     "text": [
      "panjang = 20\n",
      "lebar = 420\n",
      "\n",
      "Hasil nya adalah..... :\n",
      "Keliling :  880\n",
      "Luas :  8400\n"
     ]
    }
   ],
   "source": [
    "p = int(input(\"panjang = \"))\n",
    "l = int(input(\"lebar = \"))\n",
    "\n",
    "def soal_1(p, l):\n",
    "    keliling = (2*p) + (2*l)\n",
    "    luas = (p * l)\n",
    "    print(\"\\nHasil nya adalah..... :\")\n",
    "    print(\"Keliling : \", keliling);\n",
    "    print(\"Luas : \", luas);\n",
    "soal_1(p, l)"
   ]
  },
  {
   "cell_type": "code",
   "execution_count": 3,
   "id": "6eedc5cf",
   "metadata": {},
   "outputs": [
    {
     "name": "stdout",
     "output_type": "stream",
     "text": [
      "Name : fja\n",
      "Addres :dalja\n",
      "Nim :daska\n",
      "\n",
      "\n",
      "Berikut adalah data diri yang sudah di inputkan\n",
      "Name : fja\n",
      "Addres : dalja\n",
      "Nim : daska\n"
     ]
    }
   ],
   "source": [
    "class biodata():\n",
    "    def _init_(self,nama,alaat, nim):\n",
    "        \n",
    "        print(\"Inputkan Biodata Anda\")\n",
    "        \n",
    "    def input(self):\n",
    "        self.nama = input(\"Name : \")\n",
    "        self.alamat = input(\"Addres :\")\n",
    "        self.nim = input(\"Nim :\")\n",
    "        \n",
    "class datadiri(biodata):\n",
    "    def cetak(self):\n",
    "        print (\"\\n\\nBerikut adalah data diri yang sudah di inputkan\")\n",
    "        print (\"Name :\", self.nama)\n",
    "        print (\"Addres :\", self.alamat)\n",
    "        print (\"Nim :\", self.nim)\n",
    "        \n",
    "data = datadiri()\n",
    "data.input()\n",
    "data.cetak()"
   ]
  },
  {
   "cell_type": "code",
   "execution_count": 5,
   "id": "a1b7f144",
   "metadata": {},
   "outputs": [
    {
     "name": "stdout",
     "output_type": "stream",
     "text": [
      "1. Tambah\n",
      "2. Kurang\n",
      "3. Kali\n",
      "4. Bagi\n",
      "5. Exit\n",
      "Pilih operasi :1\n",
      "\n",
      "Masukkan Nilai Pertama :48\n",
      "\n",
      "Masukkan Nilai Kedua   :4824\n",
      "48 + 4824 = 4872\n",
      "1. Tambah\n",
      "2. Kurang\n",
      "3. Kali\n",
      "4. Bagi\n",
      "5. Exit\n",
      "Pilih operasi :2\n",
      "\n",
      "Masukkan Nilai Pertama :eq\n"
     ]
    },
    {
     "ename": "ValueError",
     "evalue": "invalid literal for int() with base 10: 'eq'",
     "output_type": "error",
     "traceback": [
      "\u001b[1;31m---------------------------------------------------------------------------\u001b[0m",
      "\u001b[1;31mValueError\u001b[0m                                Traceback (most recent call last)",
      "\u001b[1;32m<ipython-input-5-289c6730753b>\u001b[0m in \u001b[0;36m<module>\u001b[1;34m\u001b[0m\n\u001b[0;32m     24\u001b[0m             \u001b[1;32mbreak\u001b[0m\u001b[1;33m\u001b[0m\u001b[1;33m\u001b[0m\u001b[0m\n\u001b[0;32m     25\u001b[0m \u001b[1;33m\u001b[0m\u001b[0m\n\u001b[1;32m---> 26\u001b[1;33m         \u001b[0ma\u001b[0m \u001b[1;33m=\u001b[0m \u001b[0mint\u001b[0m\u001b[1;33m(\u001b[0m\u001b[0minput\u001b[0m\u001b[1;33m(\u001b[0m\u001b[1;34m\"\\nMasukkan Nilai Pertama :\"\u001b[0m\u001b[1;33m)\u001b[0m\u001b[1;33m)\u001b[0m\u001b[1;33m\u001b[0m\u001b[1;33m\u001b[0m\u001b[0m\n\u001b[0m\u001b[0;32m     27\u001b[0m         \u001b[0mb\u001b[0m \u001b[1;33m=\u001b[0m \u001b[0mint\u001b[0m\u001b[1;33m(\u001b[0m\u001b[0minput\u001b[0m\u001b[1;33m(\u001b[0m\u001b[1;34m\"\\nMasukkan Nilai Kedua   :\"\u001b[0m\u001b[1;33m)\u001b[0m\u001b[1;33m)\u001b[0m\u001b[1;33m\u001b[0m\u001b[1;33m\u001b[0m\u001b[0m\n\u001b[0;32m     28\u001b[0m \u001b[1;33m\u001b[0m\u001b[0m\n",
      "\u001b[1;31mValueError\u001b[0m: invalid literal for int() with base 10: 'eq'"
     ]
    }
   ],
   "source": [
    "class calculator:\n",
    "    def tambah(self, a, b):\n",
    "        return a+b\n",
    "    def kurang(self, a, b):\n",
    "        return a-b\n",
    "    def kali(self, a, b):\n",
    "        return a*b\n",
    "    def bagi(self, a, b):\n",
    "        return a/b\n",
    "    \n",
    "kalkulatorku = calculator()\n",
    "\n",
    "while True:\n",
    "    print(\"1. Tambah\")\n",
    "    print(\"2. Kurang\")\n",
    "    print(\"3. Kali\")\n",
    "    print(\"4. Bagi\")\n",
    "    print(\"5. Exit\")\n",
    "    \n",
    "    ch = int(input(\"Pilih operasi :\"))\n",
    "    \n",
    "    if ch in (1, 2, 3, 4, 5):\n",
    "        if(ch==5):\n",
    "            break\n",
    "            \n",
    "        a = int(input(\"\\nMasukkan Nilai Pertama :\"))\n",
    "        b = int(input(\"\\nMasukkan Nilai Kedua   :\"))\n",
    "        \n",
    "        if(ch==1):\n",
    "            print(a, \"+\", b, \"=\", kalkulatorku.tambah(a,b))\n",
    "            \n",
    "        elif(ch==2):\n",
    "            print(a, \"-\", b, \"=\", kalkulatorku.kurang(a,b))\n",
    "            \n",
    "        elif(ch==3):\n",
    "            print(a, \"x\", b, \"=\", kalkulatorku.kali(a,b))\n",
    "            \n",
    "        elif(ch==4):\n",
    "            print(a, \":\", b, \"=\", kalkulatorku.bagi(a,b))\n",
    "            \n",
    "    else:\n",
    "        print(\"Invalid Input\")"
   ]
  },
  {
   "cell_type": "code",
   "execution_count": null,
   "id": "602cea73",
   "metadata": {},
   "outputs": [],
   "source": []
  },
  {
   "cell_type": "code",
   "execution_count": null,
   "id": "d2ba5417",
   "metadata": {},
   "outputs": [],
   "source": []
  }
 ],
 "metadata": {
  "kernelspec": {
   "display_name": "Python 3",
   "language": "python",
   "name": "python3"
  },
  "language_info": {
   "codemirror_mode": {
    "name": "ipython",
    "version": 3
   },
   "file_extension": ".py",
   "mimetype": "text/x-python",
   "name": "python",
   "nbconvert_exporter": "python",
   "pygments_lexer": "ipython3",
   "version": "3.8.8"
  }
 },
 "nbformat": 4,
 "nbformat_minor": 5
}
